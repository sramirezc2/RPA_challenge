{
 "cells": [
  {
   "cell_type": "code",
   "execution_count": 10,
   "source": [
    "#Importing needed libraries\n",
    "import random \n",
    "from time import sleep\n",
    "from selenium import webdriver \n",
    "from selenium.webdriver.common.keys import Keys\n",
    "import time\n",
    "import pandas as pd\n",
    "import numpy as np"
   ],
   "outputs": [],
   "metadata": {}
  },
  {
   "cell_type": "code",
   "execution_count": 11,
   "source": [
    "#open the webpage\n",
    "url = 'https://itdashboard.gov/'\n",
    "driver = webdriver.Chrome('./chromedriver')\n",
    "driver.get(url)"
   ],
   "outputs": [],
   "metadata": {}
  },
  {
   "cell_type": "code",
   "execution_count": 12,
   "source": [
    "#click the button\n",
    "button = driver.find_elements_by_css_selector(\"[aria-controls=home-dive-in]\")\n",
    "print(button[0])\n",
    "button[0].click()\n",
    "time.sleep(5)"
   ],
   "outputs": [
    {
     "output_type": "stream",
     "name": "stdout",
     "text": [
      "<selenium.webdriver.remote.webelement.WebElement (session=\"dcee801129fbb824bef88fa6ea613d91\", element=\"d59ffbbc-4c41-4bfa-9921-8e755be4055a\")>\n"
     ]
    }
   ],
   "metadata": {}
  },
  {
   "cell_type": "code",
   "execution_count": 13,
   "source": [
    "#access the main information from the departments\n",
    "departments = driver.find_elements_by_id('agency-tiles-container')\n",
    "a = departments[0]\n",
    "a = a.find_element_by_id('agency-tiles-widget')\n",
    "a = a.find_elements_by_class_name('wrapper')\n",
    "b = a[0]\n",
    "dep_list_p = b.text\n",
    "dep_list = dep_list_p.split('\\n')\n",
    "dep_dict = {}\n",
    "print(dep_list)\n"
   ],
   "outputs": [
    {
     "output_type": "stream",
     "name": "stdout",
     "text": [
      "['Department of Agriculture', 'Total FY2021 Spending:', '$2.7B', 'view', 'Department of Commerce', 'Total FY2021 Spending:', '$2.8B', 'view', 'Department of Defense', 'Total FY2021 Spending:', '$36B', 'view', 'Department of Health and Human Services', 'Total FY2021 Spending:', '$7.0B', 'view', 'Department of the Interior', 'Total FY2021 Spending:', '$1.5B', 'view', 'Department of Justice', 'Total FY2021 Spending:', '$3.1B', 'view', 'Department of Labor', 'Total FY2021 Spending:', '$819M', 'view', 'Department of State', 'Total FY2021 Spending:', '$2.6B', 'view', 'Department of the Treasury', 'Total FY2021 Spending:', '$5.4B', 'view', 'Social Security Administration', 'Total FY2021 Spending:', '$2.0B', 'view', 'Department of Education', 'Total FY2021 Spending:', '$1.0B', 'view', 'Department of Energy', 'Total FY2021 Spending:', '$3.1B', 'view', 'Environmental Protection Agency', 'Total FY2021 Spending:', '$385M', 'view', 'Department of Transportation', 'Total FY2021 Spending:', '$3.5B', 'view', 'General Services Administration', 'Total FY2021 Spending:', '$765M', 'view', 'Department of Homeland Security', 'Total FY2021 Spending:', '$7.4B', 'view', 'Department of Housing and Urban Development', 'Total FY2021 Spending:', '$447M', 'view', 'National Aeronautics and Space Administration', 'Total FY2021 Spending:', '$2.2B', 'view', 'Office of Personnel Management', 'Total FY2021 Spending:', '$125M', 'view', 'Small Business Administration', 'Total FY2021 Spending:', '$129M', 'view', 'Department of Veterans Affairs', 'Total FY2021 Spending:', '$9.1B', 'view', 'U.S. Agency for International Development', 'Total FY2021 Spending:', '$256M', 'view', 'U.S. Army Corps of Engineers', 'Total FY2021 Spending:', '$275M', 'view', 'National Archives and Records Administration', 'Total FY2021 Spending:', '$99.9M', 'view', 'National Science Foundation', 'Total FY2021 Spending:', '$136M', 'view', 'Nuclear Regulatory Commission', 'Total FY2021 Spending:', '$141M', 'view']\n"
     ]
    }
   ],
   "metadata": {}
  },
  {
   "cell_type": "code",
   "execution_count": 23,
   "source": [
    "#Generating dataframe with the information collected\n",
    "for i in range(len(dep_list)-2):\n",
    "    if i%4 == 0:                            #Module=0 as the 0 residual of the divission, multiples of 4\n",
    "        dep_dict[dep_list[i]] = dep_list[i+2]\n",
    "\n",
    "\n",
    "print(len(dep_dict))\n",
    "dep_dict\n",
    "\n",
    "data_final = pd.DataFrame(data = dep_dict, index=[0])\n",
    "data_final = (data_final.T)\n",
    "print(data_final)"
   ],
   "outputs": [
    {
     "output_type": "stream",
     "name": "stdout",
     "text": [
      "26\n",
      "                                                    0\n",
      "Department of Agriculture                       $2.7B\n",
      "Department of Commerce                          $2.8B\n",
      "Department of Defense                            $36B\n",
      "Department of Health and Human Services         $7.0B\n",
      "Department of the Interior                      $1.5B\n",
      "Department of Justice                           $3.1B\n",
      "Department of Labor                             $819M\n",
      "Department of State                             $2.6B\n",
      "Department of the Treasury                      $5.4B\n",
      "Social Security Administration                  $2.0B\n",
      "Department of Education                         $1.0B\n",
      "Department of Energy                            $3.1B\n",
      "Environmental Protection Agency                 $385M\n",
      "Department of Transportation                    $3.5B\n",
      "General Services Administration                 $765M\n",
      "Department of Homeland Security                 $7.4B\n",
      "Department of Housing and Urban Development     $447M\n",
      "National Aeronautics and Space Administration   $2.2B\n",
      "Office of Personnel Management                  $125M\n",
      "Small Business Administration                   $129M\n",
      "Department of Veterans Affairs                  $9.1B\n",
      "U.S. Agency for International Development       $256M\n",
      "U.S. Army Corps of Engineers                    $275M\n",
      "National Archives and Records Administration   $99.9M\n",
      "National Science Foundation                     $136M\n",
      "Nuclear Regulatory Commission                   $141M\n"
     ]
    }
   ],
   "metadata": {}
  },
  {
   "cell_type": "code",
   "execution_count": 15,
   "source": [
    "#xpath format \n",
    "#--------------------------------------------------------------------#\n",
    "#//*[@id=\"agency-tiles-widget\"]/div/div[1]/div[1]/div/div/div/div[2]/a\n",
    "#//*[@id=\"agency-tiles-widget\"]/div/div[1]/div[2]/div/div/div/div[2]/a\n",
    "#//*[@id=\"agency-tiles-widget\"]/div/div[9]/div[2]/div/div/div/div[2]/a\n",
    "#--------------------------------------------------------------------#\n",
    "#Choosing a random dept. and redirecting \n",
    "index = random.randint(0,len(dep_dict)-1)\n",
    "department_chosen = list (dep_dict.keys())[index]\n",
    "print(department_chosen, index)\n",
    "\n",
    "button_2 = driver.find_elements_by_xpath('//*[@id=\"agency-tiles-widget\"]/div/div['+str(index//3 + 1 )+']/div['+str(index%3 +1) +']/div/div/div/div[2]/a')\n",
    "page_2 = button_2[0].click()\n",
    "time.sleep(9)"
   ],
   "outputs": [
    {
     "output_type": "stream",
     "name": "stdout",
     "text": [
      "Small Business Administration 19\n"
     ]
    }
   ],
   "metadata": {}
  },
  {
   "cell_type": "code",
   "execution_count": 16,
   "source": [
    "#Scraping individual investments and gathering information in a dataframe\n",
    "\n",
    "titles = driver.find_elements_by_xpath('//th')\n",
    "df_headers=[]\n",
    "\n",
    "for t in titles:\n",
    "    if t.text !='':\n",
    "        df_headers.append(t.text)\n",
    "\n",
    "table_content = driver.find_elements_by_xpath('//*[@id=\"investments-table-object\"]/tbody/tr/td')\n",
    "cols_no = len(df_headers)\n",
    "rows = len(table_content)/cols_no\n",
    "shape = (int(rows), int(cols_no))\n",
    "df = pd.DataFrame(np.zeros(shape),columns=[df_headers])\n",
    "\n",
    "for i in range(len(table_content)):\n",
    "    df.iloc[int(i%rows), int(i%cols_no)] = table_content[i].text\n",
    "\n",
    "df.head(5)"
   ],
   "outputs": [],
   "metadata": {}
  },
  {
   "cell_type": "code",
   "execution_count": 18,
   "source": [
    "#Accesing links and downloading attached pdf's if possible\n",
    "url_3 = 'https://itdashboard.gov/drupal/summary/'\n",
    "for uii in list(df.iloc[:,0]):\n",
    "    try:\n",
    "        time.sleep(5)\n",
    "        str_uii = str(uii)\n",
    "        head = str_uii.split('-')[0]\n",
    "        url_temp = url_3 + head + '/' + str_uii\n",
    "        print(url_temp)\n",
    "        driver.get(url_temp)\n",
    "        pdf_download = driver.find_element_by_id('business-case-pdf')\n",
    "        pdf_download.click()\n",
    "        time.sleep(5)\n",
    "    except:\n",
    "        print('No file available for download')\n"
   ],
   "outputs": [
    {
     "output_type": "stream",
     "name": "stdout",
     "text": [
      "https://itdashboard.gov/drupal/summary/028/028-000000048\n",
      "No file available for download\n",
      "https://itdashboard.gov/drupal/summary/028/028-000000045\n",
      "https://itdashboard.gov/drupal/summary/028/028-000005001\n",
      "No file available for download\n",
      "https://itdashboard.gov/drupal/summary/028/028-000002001\n",
      "No file available for download\n",
      "https://itdashboard.gov/drupal/summary/028/028-000001005\n",
      "No file available for download\n",
      "https://itdashboard.gov/drupal/summary/028/028-000001004\n",
      "https://itdashboard.gov/drupal/summary/028/028-000000070\n",
      "https://itdashboard.gov/drupal/summary/028/028-000000065\n",
      "https://itdashboard.gov/drupal/summary/028/028-000000056\n",
      "https://itdashboard.gov/drupal/summary/028/028-000008007\n"
     ]
    }
   ],
   "metadata": {}
  },
  {
   "cell_type": "code",
   "execution_count": 24,
   "source": [
    "#Generating final report in xlsx format. \n",
    "with pd.ExcelWriter('output.xlsx') as writer:  \n",
    "    data_final.to_excel(writer, sheet_name='Agencies', header = False)\n",
    "    df.to_excel(writer, sheet_name='Individual Investments')"
   ],
   "outputs": [],
   "metadata": {}
  }
 ],
 "metadata": {
  "orig_nbformat": 4,
  "language_info": {
   "name": "python",
   "version": "3.8.10",
   "mimetype": "text/x-python",
   "codemirror_mode": {
    "name": "ipython",
    "version": 3
   },
   "pygments_lexer": "ipython3",
   "nbconvert_exporter": "python",
   "file_extension": ".py"
  },
  "kernelspec": {
   "name": "python3",
   "display_name": "Python 3.8.10 64-bit"
  },
  "interpreter": {
   "hash": "916dbcbb3f70747c44a77c7bcd40155683ae19c65e1c03b4aa3499c5328201f1"
  }
 },
 "nbformat": 4,
 "nbformat_minor": 2
}